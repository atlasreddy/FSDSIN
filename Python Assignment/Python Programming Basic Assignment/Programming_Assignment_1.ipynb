{
 "cells": [
  {
   "cell_type": "markdown",
   "metadata": {},
   "source": [
    "## Python Basic Programming Assignment 1 submission by Shashidhar Reddy"
   ]
  },
  {
   "cell_type": "markdown",
   "metadata": {
    "collapsed": true
   },
   "source": [
    "**Q1. Write a Python program to print \"Hello Python\"?**"
   ]
  },
  {
   "cell_type": "code",
   "execution_count": 1,
   "metadata": {},
   "outputs": [
    {
     "name": "stdout",
     "output_type": "stream",
     "text": [
      "Hello Python\n",
      "\"Hello Python\"\n"
     ]
    }
   ],
   "source": [
    "# Code 1\n",
    "print(\"Hello Python\")\n",
    "print(\"\\\"Hello Python\\\"\") # Escape character \\ is used to print \""
   ]
  },
  {
   "cell_type": "markdown",
   "metadata": {},
   "source": [
    "**Q2. Write a Python program to do arithmetical operations addition and division.?**"
   ]
  },
  {
   "cell_type": "code",
   "execution_count": 2,
   "metadata": {},
   "outputs": [
    {
     "name": "stdout",
     "output_type": "stream",
     "text": [
      "Enter First number: 4\n",
      "Enter Second number: 5\n",
      "Addition of two numbers 4.0 + 5.0 is 9.0\n",
      "Division of two numbers 4.0 / 5.0 is 0.8\n",
      "Press q for exit. or Enter to continue. \n",
      "Enter First number: 6\n",
      "Enter Second number: 3\n",
      "Addition of two numbers 6.0 + 3.0 is 9.0\n",
      "Division of two numbers 6.0 / 3.0 is 2.0\n",
      "Press q for exit. or Enter to continue. q\n"
     ]
    }
   ],
   "source": [
    "# Code 2\n",
    "while True: # Continuing the loop until user press q \n",
    "    first_num = float(input(\"Enter First number: \")) # converting the string input to float\n",
    "    second_num = float(input(\"Enter Second number: \"))\n",
    "    print(\"Addition of two numbers \"+str(first_num) +\" + \"+ str(second_num) + \" is \"+ str(first_num + second_num))\n",
    "    print(\"Division of two numbers \"+str(first_num) +\" / \"+ str(second_num) + \" is \"+ str(first_num / second_num))\n",
    "    istoContinue = input(\"Press q for exit. or Enter to continue. \")\n",
    "    if istoContinue.lower().strip() == 'q': # converting to lowercase and removing the whitespaces. \n",
    "        break\n"
   ]
  },
  {
   "cell_type": "markdown",
   "metadata": {},
   "source": [
    "**Q3. Write a Python program to find the area of a triangle?**"
   ]
  },
  {
   "cell_type": "code",
   "execution_count": 3,
   "metadata": {},
   "outputs": [
    {
     "name": "stdout",
     "output_type": "stream",
     "text": [
      "Enter First side: 3\n",
      "Enter Second side: 4\n",
      "Enter third side: 5\n",
      "Area of triangle with sides 3.0 , 4.0 , 5.0 is 6.0\n",
      "Press q for exit. or Enter to continue. q\n"
     ]
    }
   ],
   "source": [
    "# Code 3\n",
    "while True:\n",
    "    first_side = float(input(\"Enter First side: \"))\n",
    "    second_side = float(input(\"Enter Second side: \"))\n",
    "    third_side = float(input(\"Enter third side: \"))\n",
    "    semi_permiter = (first_side + second_side + third_side) /2\n",
    "    area = (semi_permiter * (semi_permiter-first_side) * (semi_permiter - second_side) * (semi_permiter - third_side))**0.5\n",
    "    print(\"Area of triangle with sides \"+str(first_side) +\" , \"+ str(second_side) + \" , \"+ str(third_side) +\" is \"+ str(area))\n",
    "    istoContinue = input(\"Press q for exit. or Enter to continue. \")\n",
    "    if istoContinue.lower().strip() == 'q':\n",
    "        break\n"
   ]
  },
  {
   "cell_type": "markdown",
   "metadata": {},
   "source": [
    "**Q4. Write a Python program to swap two variables?**"
   ]
  },
  {
   "cell_type": "code",
   "execution_count": 4,
   "metadata": {},
   "outputs": [
    {
     "name": "stdout",
     "output_type": "stream",
     "text": [
      "Enter First variable: 4\n",
      "Enter Second variable: 5\n",
      "Before Swapping of two variables: 4 , 5\n",
      "After swapping of two variables: 5 , 4\n",
      "Press q for exit. or Enter to continue. q\n"
     ]
    }
   ],
   "source": [
    "# code 4\n",
    "while True:\n",
    "    first_var = input(\"Enter First variable: \")\n",
    "    second_var = input(\"Enter Second variable: \")\n",
    "    print(\"Before Swapping of two variables: \"+str(first_var) +\" , \"+ str(second_var) )\n",
    "    first_var, second_var = second_var, first_var\n",
    "    print(\"After swapping of two variables: \"+str(first_var) +\" , \"+ str(second_var))\n",
    "    istoContinue = input(\"Press q for exit. or Enter to continue. \")\n",
    "    if istoContinue.lower().strip() == 'q':\n",
    "        break\n"
   ]
  },
  {
   "cell_type": "markdown",
   "metadata": {},
   "source": [
    "**Q5. Write a Python program to generate a random number?**"
   ]
  },
  {
   "cell_type": "code",
   "execution_count": 5,
   "metadata": {},
   "outputs": [
    {
     "name": "stdout",
     "output_type": "stream",
     "text": [
      "Enter any number: 3\n",
      "Generated Random number is : -1.7177646137223672 in between -3.0 and 3.0\n",
      "Press q for exit. or Enter to continue. or Press c to change the range0\n",
      "Generated Random number is : 2.259867464602122 in between -3.0 and 3.0\n",
      "Press q for exit. or Enter to continue. or Press c to change the range9\n",
      "Generated Random number is : 1.012247706631574 in between -3.0 and 3.0\n",
      "Press q for exit. or Enter to continue. or Press c to change the rangec\n",
      "Enter any number: 6\n",
      "Generated Random number is : -0.7694975828505699 in between -6.0 and 6.0\n",
      "Press q for exit. or Enter to continue. or Press c to change the range\n",
      "Generated Random number is : -3.8691265814734233 in between -6.0 and 6.0\n",
      "Press q for exit. or Enter to continue. or Press c to change the range\n",
      "Generated Random number is : -0.1513179324220486 in between -6.0 and 6.0\n",
      "Press q for exit. or Enter to continue. or Press c to change the range\n",
      "Generated Random number is : -5.773729287842302 in between -6.0 and 6.0\n",
      "Press q for exit. or Enter to continue. or Press c to change the rangeq\n"
     ]
    }
   ],
   "source": [
    "# code 5\n",
    "import random\n",
    "var = float(input(\"Enter any number: \"))\n",
    "while True:\n",
    "    random_num = random.uniform(-1*var, var)\n",
    "    print(\"Generated Random number is : \"+str(random_num) + \" in between \"+str(-1*var) +\" and \"+str(var))\n",
    "    istoContinue = input(\"Press q for exit. or Enter to continue. or Press c to change the range\")\n",
    "    if istoContinue.lower().strip() == 'q':\n",
    "        break\n",
    "    elif istoContinue.lower().strip() == 'c':\n",
    "        var = float(input(\"Enter any number: \"))\n"
   ]
  },
  {
   "cell_type": "markdown",
   "metadata": {},
   "source": [
    "**End of the Assignment 1.**"
   ]
  }
 ],
 "metadata": {
  "kernelspec": {
   "display_name": "Python 3",
   "language": "python",
   "name": "python3"
  },
  "language_info": {
   "codemirror_mode": {
    "name": "ipython",
    "version": 3
   },
   "file_extension": ".py",
   "mimetype": "text/x-python",
   "name": "python",
   "nbconvert_exporter": "python",
   "pygments_lexer": "ipython3",
   "version": "3.7.4"
  }
 },
 "nbformat": 4,
 "nbformat_minor": 1
}
