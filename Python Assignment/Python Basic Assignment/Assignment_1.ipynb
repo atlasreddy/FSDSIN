{
 "cells": [
  {
   "cell_type": "markdown",
   "metadata": {},
   "source": [
    "# Python Basic Assignment - 1 submission by Shashidhar Reddy"
   ]
  },
  {
   "cell_type": "markdown",
   "metadata": {},
   "source": [
    "<hr/>"
   ]
  },
  {
   "cell_type": "markdown",
   "metadata": {},
   "source": [
    "**Q1. In the below elements which of them are values or an expression? eg:- values can be integer or string and expressions will be mathematical operators.**                       \n",
    "\\*                       \n",
    "'hello'                  \n",
    "-87.8                     \n",
    " \\-                                               \n",
    "/                                        \n",
    "\\+\t                                       \n",
    "6                                \n"
   ]
  },
  {
   "cell_type": "markdown",
   "metadata": {},
   "source": [
    "**A1.**\n",
    "\n",
    "\\* , - , / , +  are expressions\n",
    "\n",
    "'hello' , -87.8 , 6 are values\n",
    "\n",
    "<hr/>"
   ]
  },
  {
   "cell_type": "markdown",
   "metadata": {},
   "source": [
    "  \n",
    "**Q2. What is the difference between string and variable?**"
   ]
  },
  {
   "cell_type": "markdown",
   "metadata": {},
   "source": [
    "**A2.**   \n",
    "A string is any value that is enclosed inside single quote, double quote or triple quote. For example, Eg1: 'this is a string in single quote' . Eg2: \"this is a string enclosed within double quotes.\" In Python programming language, string is an object. \n",
    "\n",
    "A variable is a store of information that can refer to any data type like string, integer, float etc. In Programming, the variable can be used to refer at the later stages in the program. There are some rules to define the variable such as it should start with the _ or alphabets.  \n",
    "\n",
    "variable = \"this is a string referred later by the name variable\". \n",
    "<hr/>"
   ]
  },
  {
   "cell_type": "markdown",
   "metadata": {},
   "source": [
    "**Q3. Describe three different data types.**"
   ]
  },
  {
   "cell_type": "markdown",
   "metadata": {},
   "source": [
    "**A3.**  \n",
    "Every value has an assosiated data type. Each data type requires different amount of memory and has some specific operations that can be performed on them. In Python, we can use the type() function to find out the data type of a variable or a value. There are different data  types present inside Python. Some of the common data types used are int, boolean, None type.   \n",
    "    \n",
    "**int type**: whenever the variable stores an integer valu, then it's an int type.   \n",
    "**boolean type**: boolean type has two values .i.e. True,False.   \n",
    "**None Type**: None Type is used when the particular variable has no value at all.   \n",
    "<hr/>"
   ]
  },
  {
   "cell_type": "markdown",
   "metadata": {},
   "source": [
    "**Q4. What is an expression made up of? What do all expressions do?**"
   ]
  },
  {
   "cell_type": "markdown",
   "metadata": {},
   "source": [
    "**A4.**    \n",
    "An expression is combination of vaiables, operators, function calls after converting them into a single data type. They are evaluated to a single data type value.    \n",
    "Eg. 2+3+6 ***** 5  evaluates to 35\n",
    "<hr/>"
   ]
  },
  {
   "cell_type": "markdown",
   "metadata": {},
   "source": [
    "**Q5. This assignment statements, like spam = 10. What is the difference between an expression and a statement?**"
   ]
  },
  {
   "cell_type": "markdown",
   "metadata": {},
   "source": [
    "**A5.**    \n",
    "A **statement** is an instruction that the interpreter can execute. Whereas, an expression is a combination of values, variables and operators.   \n",
    "For Eg. spam = 10 is an assignment statement. whereas spam2 = 10 * 10 which the expression 10 * 10 evaluates to 100 and assigns to spam2.    \n",
    "\n",
    "<hr/>"
   ]
  },
  {
   "cell_type": "markdown",
   "metadata": {},
   "source": [
    "**Q6. After running the following code, what does the variable bacon contain?   \n",
    "bacon = 22    \n",
    "bacon + 1**"
   ]
  },
  {
   "cell_type": "code",
   "execution_count": null,
   "metadata": {},
   "outputs": [],
   "source": [
    "bacon = 22\n",
    "bacon + 1\n",
    "bacon"
   ]
  },
  {
   "cell_type": "markdown",
   "metadata": {},
   "source": [
    "**A6.**    \n",
    "The variable bacon after execution contains the value **22** because bacon is assigned with 22 and bacon+1 is not assigned to bacon, so as a result, the value in bacon does not change.   \n",
    "<hr/>"
   ]
  },
  {
   "cell_type": "markdown",
   "metadata": {},
   "source": [
    "**Q7. What should the values of the following two terms be?**      \n",
    "**'spam' + 'spamspam'**        \n",
    "**'spam' *  3**\n"
   ]
  },
  {
   "cell_type": "code",
   "execution_count": null,
   "metadata": {},
   "outputs": [],
   "source": [
    "'spam'+'spamspam'"
   ]
  },
  {
   "cell_type": "code",
   "execution_count": null,
   "metadata": {},
   "outputs": [],
   "source": [
    "'spam'*3"
   ]
  },
  {
   "cell_type": "markdown",
   "metadata": {},
   "source": [
    "**A7.**     \n",
    "the two of the given terms contains the value **'spamspamspam'**.     \n",
    "<hr/>"
   ]
  },
  {
   "cell_type": "markdown",
   "metadata": {},
   "source": [
    "**Q8. Why is eggs a valid variable name while 100 is invalid?**"
   ]
  },
  {
   "cell_type": "markdown",
   "metadata": {},
   "source": [
    "**A8.**   \n",
    "variable names should follow some rules among which one of them is it should start with _ or an alphabet.     \n",
    "eggs is a valid variable name since it starts with the alphabet whereas, 100 is invalid because it start with numeral.     \n",
    "<hr/>"
   ]
  },
  {
   "cell_type": "markdown",
   "metadata": {},
   "source": [
    "**Q9. What three functions can be used to get the integer, floating-point number, or string version of a value?**"
   ]
  },
  {
   "cell_type": "markdown",
   "metadata": {},
   "source": [
    "**A9.**     \n",
    "int() ==> to convert to integer       \n",
    "float() ==> to convert a value to floating point      \n",
    "str()  ==> to convert the value to string format.      \n",
    "<hr/>"
   ]
  },
  {
   "cell_type": "markdown",
   "metadata": {},
   "source": [
    "**Q10. Why does this expression cause an error? How can you fix it?**        \n",
    "**'I have eaten ' + 99 + ' burritos.'**"
   ]
  },
  {
   "cell_type": "code",
   "execution_count": null,
   "metadata": {},
   "outputs": [],
   "source": [
    "'I have eaten ' + 99 + ' burritos.'"
   ]
  },
  {
   "cell_type": "markdown",
   "metadata": {},
   "source": [
    "**A10.**       \n",
    "Cannot concatenate the integer value to a string. To fix this, we must convert the integer value to string format using the str() function.               \n",
    "'I have eaten ' + str(99) + ' burritos.'\n"
   ]
  },
  {
   "cell_type": "code",
   "execution_count": null,
   "metadata": {},
   "outputs": [],
   "source": [
    "'I have eaten ' + str(99) + ' burritos.'"
   ]
  },
  {
   "cell_type": "markdown",
   "metadata": {},
   "source": [
    "<hr/>"
   ]
  },
  {
   "cell_type": "markdown",
   "metadata": {},
   "source": [
    "##### The END of the Python Basic Assignment 1 #####"
   ]
  }
 ],
 "metadata": {
  "kernelspec": {
   "display_name": "Python 3",
   "language": "python",
   "name": "python3"
  },
  "language_info": {
   "codemirror_mode": {
    "name": "ipython",
    "version": 3
   },
   "file_extension": ".py",
   "mimetype": "text/x-python",
   "name": "python",
   "nbconvert_exporter": "python",
   "pygments_lexer": "ipython3",
   "version": "3.6.10"
  }
 },
 "nbformat": 4,
 "nbformat_minor": 4
}
